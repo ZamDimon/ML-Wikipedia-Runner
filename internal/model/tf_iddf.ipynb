{
 "cells": [
  {
   "cell_type": "code",
   "execution_count": 123,
   "id": "3fdf505c",
   "metadata": {},
   "outputs": [
    {
     "data": {
      "text/plain": [
       "9223372036854775807"
      ]
     },
     "execution_count": 123,
     "metadata": {},
     "output_type": "execute_result"
    }
   ],
   "source": [
    "# Load Packages\n",
    "import sys\n",
    "import sklearn\n",
    "sys.path.append('../../')\n",
    "import scipy\n",
    "from sklearn.feature_extraction.text import TfidfVectorizer\n",
    "from sklearn.model_selection import train_test_split\n",
    "from sklearn.linear_model import LogisticRegression\n",
    "from sklearn.ensemble import RandomForestRegressor\n",
    "from sklearn.metrics import log_loss, accuracy_score, roc_auc_score, mean_squared_error\n",
    "from sklearn.model_selection import RandomizedSearchCV\n",
    "from scipy.stats import randint as sp_randint\n",
    "import matplotlib.pyplot as plt\n",
    "from sklearn.model_selection import validation_curve\n",
    "import pandas as pd\n",
    "import re\n",
    "import xgboost as xgb\n",
    "import os\n",
    "import pickle\n",
    "import re\n",
    "import csv\n",
    "import codecs\n",
    "import numpy as np\n",
    "import pandas as pd\n",
    "from xgboost import XGBRegressor\n",
    "from nltk.corpus import stopwords\n",
    "from nltk.stem import SnowballStemmer\n",
    "from joblib import dump\n",
    "from string import punctuation\n",
    "from importlib import reload\n",
    "from gensim.models import KeyedVectors\n",
    "from keras.preprocessing.text import Tokenizer\n",
    "from keras.preprocessing.sequence import pad_sequences\n",
    "from keras.layers import Dense, Input, LSTM, Embedding, Dropout, Activation\n",
    "from keras.layers.merge import concatenate\n",
    "from sklearn.decomposition import PCA\n",
    "from keras.models import Model\n",
    "from sklearn.metrics import fbeta_score, make_scorer\n",
    "from keras.layers.normalization import BatchNormalization\n",
    "from keras.callbacks import EarlyStopping, ModelCheckpoint\n",
    "from sklearn.metrics import mean_squared_error\n",
    "from sklearn.model_selection import cross_val_score\n",
    "from sklearn.metrics import mean_squared_error\n",
    "from internal.dataset_generator import page_info\n",
    "from sklearn.decomposition import PCA\n",
    "import matplotlib.pyplot as plt\n",
    "import sys\n",
    "from sklearn.pipeline import make_pipeline\n",
    "from sklearn.preprocessing import StandardScaler\n",
    "from sklearn.svm import SVR\n",
    "csv.field_size_limit(sys.maxsize)\n",
    "#reload(sys)\n",
    "#sys.setdefaultencoding('utf-8')\n"
   ]
  },
  {
   "cell_type": "code",
   "execution_count": 2,
   "id": "97a1a387",
   "metadata": {},
   "outputs": [],
   "source": [
    "# one of the variants of merging two parts of dataset \n",
    "def get_matrix(matrix1, matrix2):\n",
    "    matrix = np.zeros(matrix1.shape)\n",
    "    for i in range(matrix.shape[0]):\n",
    "        for j in range(matrix.shape[1]):\n",
    "            if matrix1[i, j] == 0 and matrix2[i, j] == 0:\n",
    "                matrix[i, j] = -1\n",
    "            else:\n",
    "                matrix[i, j] = (matrix1[i, j] * matrix2[i, j]) / (matrix1[i, j] + matrix2[i, j])\n",
    "    return matrix"
   ]
  },
  {
   "cell_type": "code",
   "execution_count": 3,
   "id": "29c26e84",
   "metadata": {},
   "outputs": [],
   "source": [
    "# Read Data\n",
    "train = pd.read_csv('../dataset_generator/output/train.csv')\n",
    "train = train[:6000]"
   ]
  },
  {
   "cell_type": "code",
   "execution_count": 4,
   "id": "48115800",
   "metadata": {},
   "outputs": [],
   "source": [
    "# define tfidf vectorizer \n",
    "tfidf = TfidfVectorizer(analyzer = 'word',\n",
    "                        stop_words = 'english',\n",
    "                        lowercase = True,\n",
    "                        max_features = 1000,\n",
    "                        norm = 'l1')"
   ]
  },
  {
   "cell_type": "code",
   "execution_count": 5,
   "id": "b7b8aba5",
   "metadata": {},
   "outputs": [],
   "source": [
    "# string that contains every text in train \n",
    "BagOfWords = pd.concat([train.iloc[:, 1], train.iloc[:, 3]], axis = 0)"
   ]
  },
  {
   "cell_type": "code",
   "execution_count": 6,
   "id": "8464af28",
   "metadata": {
    "scrolled": true
   },
   "outputs": [
    {
     "data": {
      "text/html": [
       "<style>#sk-container-id-1 {color: black;background-color: white;}#sk-container-id-1 pre{padding: 0;}#sk-container-id-1 div.sk-toggleable {background-color: white;}#sk-container-id-1 label.sk-toggleable__label {cursor: pointer;display: block;width: 100%;margin-bottom: 0;padding: 0.3em;box-sizing: border-box;text-align: center;}#sk-container-id-1 label.sk-toggleable__label-arrow:before {content: \"▸\";float: left;margin-right: 0.25em;color: #696969;}#sk-container-id-1 label.sk-toggleable__label-arrow:hover:before {color: black;}#sk-container-id-1 div.sk-estimator:hover label.sk-toggleable__label-arrow:before {color: black;}#sk-container-id-1 div.sk-toggleable__content {max-height: 0;max-width: 0;overflow: hidden;text-align: left;background-color: #f0f8ff;}#sk-container-id-1 div.sk-toggleable__content pre {margin: 0.2em;color: black;border-radius: 0.25em;background-color: #f0f8ff;}#sk-container-id-1 input.sk-toggleable__control:checked~div.sk-toggleable__content {max-height: 200px;max-width: 100%;overflow: auto;}#sk-container-id-1 input.sk-toggleable__control:checked~label.sk-toggleable__label-arrow:before {content: \"▾\";}#sk-container-id-1 div.sk-estimator input.sk-toggleable__control:checked~label.sk-toggleable__label {background-color: #d4ebff;}#sk-container-id-1 div.sk-label input.sk-toggleable__control:checked~label.sk-toggleable__label {background-color: #d4ebff;}#sk-container-id-1 input.sk-hidden--visually {border: 0;clip: rect(1px 1px 1px 1px);clip: rect(1px, 1px, 1px, 1px);height: 1px;margin: -1px;overflow: hidden;padding: 0;position: absolute;width: 1px;}#sk-container-id-1 div.sk-estimator {font-family: monospace;background-color: #f0f8ff;border: 1px dotted black;border-radius: 0.25em;box-sizing: border-box;margin-bottom: 0.5em;}#sk-container-id-1 div.sk-estimator:hover {background-color: #d4ebff;}#sk-container-id-1 div.sk-parallel-item::after {content: \"\";width: 100%;border-bottom: 1px solid gray;flex-grow: 1;}#sk-container-id-1 div.sk-label:hover label.sk-toggleable__label {background-color: #d4ebff;}#sk-container-id-1 div.sk-serial::before {content: \"\";position: absolute;border-left: 1px solid gray;box-sizing: border-box;top: 0;bottom: 0;left: 50%;z-index: 0;}#sk-container-id-1 div.sk-serial {display: flex;flex-direction: column;align-items: center;background-color: white;padding-right: 0.2em;padding-left: 0.2em;position: relative;}#sk-container-id-1 div.sk-item {position: relative;z-index: 1;}#sk-container-id-1 div.sk-parallel {display: flex;align-items: stretch;justify-content: center;background-color: white;position: relative;}#sk-container-id-1 div.sk-item::before, #sk-container-id-1 div.sk-parallel-item::before {content: \"\";position: absolute;border-left: 1px solid gray;box-sizing: border-box;top: 0;bottom: 0;left: 50%;z-index: -1;}#sk-container-id-1 div.sk-parallel-item {display: flex;flex-direction: column;z-index: 1;position: relative;background-color: white;}#sk-container-id-1 div.sk-parallel-item:first-child::after {align-self: flex-end;width: 50%;}#sk-container-id-1 div.sk-parallel-item:last-child::after {align-self: flex-start;width: 50%;}#sk-container-id-1 div.sk-parallel-item:only-child::after {width: 0;}#sk-container-id-1 div.sk-dashed-wrapped {border: 1px dashed gray;margin: 0 0.4em 0.5em 0.4em;box-sizing: border-box;padding-bottom: 0.4em;background-color: white;}#sk-container-id-1 div.sk-label label {font-family: monospace;font-weight: bold;display: inline-block;line-height: 1.2em;}#sk-container-id-1 div.sk-label-container {text-align: center;}#sk-container-id-1 div.sk-container {/* jupyter's `normalize.less` sets `[hidden] { display: none; }` but bootstrap.min.css set `[hidden] { display: none !important; }` so we also need the `!important` here to be able to override the default hidden behavior on the sphinx rendered scikit-learn.org. See: https://github.com/scikit-learn/scikit-learn/issues/21755 */display: inline-block !important;position: relative;}#sk-container-id-1 div.sk-text-repr-fallback {display: none;}</style><div id=\"sk-container-id-1\" class=\"sk-top-container\"><div class=\"sk-text-repr-fallback\"><pre>TfidfVectorizer(max_features=1000, norm=&#x27;l1&#x27;, stop_words=&#x27;english&#x27;)</pre><b>In a Jupyter environment, please rerun this cell to show the HTML representation or trust the notebook. <br />On GitHub, the HTML representation is unable to render, please try loading this page with nbviewer.org.</b></div><div class=\"sk-container\" hidden><div class=\"sk-item\"><div class=\"sk-estimator sk-toggleable\"><input class=\"sk-toggleable__control sk-hidden--visually\" id=\"sk-estimator-id-1\" type=\"checkbox\" checked><label for=\"sk-estimator-id-1\" class=\"sk-toggleable__label sk-toggleable__label-arrow\">TfidfVectorizer</label><div class=\"sk-toggleable__content\"><pre>TfidfVectorizer(max_features=1000, norm=&#x27;l1&#x27;, stop_words=&#x27;english&#x27;)</pre></div></div></div></div></div>"
      ],
      "text/plain": [
       "TfidfVectorizer(max_features=1000, norm='l1', stop_words='english')"
      ]
     },
     "execution_count": 6,
     "metadata": {},
     "output_type": "execute_result"
    }
   ],
   "source": [
    "tfidf.fit(BagOfWords)"
   ]
  },
  {
   "cell_type": "code",
   "execution_count": 7,
   "id": "2ade355f",
   "metadata": {},
   "outputs": [],
   "source": [
    "# saving TfidVectorizer for future using \n",
    "pickle.dump(tfidf, open('0003.pkl', \"wb\"))"
   ]
  },
  {
   "cell_type": "code",
   "execution_count": 8,
   "id": "2c4c0ff0",
   "metadata": {},
   "outputs": [],
   "source": [
    "train_q1_tfidf = tfidf.transform(train.iloc[:, 1])\n",
    "train_q2_tfidf = tfidf.transform(train.iloc[:, 3])"
   ]
  },
  {
   "cell_type": "code",
   "execution_count": null,
   "id": "fccfad28",
   "metadata": {},
   "outputs": [],
   "source": [
    "# merging two parts of dataset\n",
    "# X = get_matrix(train_q1_tfidf, train_q2_tfidf)\n",
    "# y = train.iloc[:, 4]"
   ]
  },
  {
   "cell_type": "code",
   "execution_count": 9,
   "id": "77e32a5c",
   "metadata": {},
   "outputs": [],
   "source": [
    "# merging two parts of dataset\n",
    "X = abs(train_q1_tfidf - train_q2_tfidf)\n",
    "y = train.iloc[:, 4]"
   ]
  },
  {
   "cell_type": "code",
   "execution_count": 10,
   "id": "00af1a9b",
   "metadata": {},
   "outputs": [],
   "source": [
    "X_train, X_test, y_train, y_test = train_test_split(X, y, test_size=0.2, random_state=42)"
   ]
  },
  {
   "cell_type": "markdown",
   "id": "9da9531a",
   "metadata": {},
   "source": [
    "# Dimensionality reduction "
   ]
  },
  {
   "cell_type": "code",
   "execution_count": 68,
   "id": "6fe120c9",
   "metadata": {},
   "outputs": [],
   "source": [
    "params = {'reg_lambda': 5,\n",
    " 'reg_alpha': 1,\n",
    " 'objective': 'reg:squarederror',\n",
    " 'n_estimators': 400,\n",
    " 'min_child_weight': 10,\n",
    " 'max_depth': 15,\n",
    " 'learning_rate': 0.01,\n",
    " 'gamma': 2,\n",
    " 'colsample_bytree': 1,\n",
    " 'booster': 'gbtree'}\n",
    "res_pca_components_mse = []\n",
    "for i in [2, 10, 50, 100, 200]:\n",
    "    X_train_pca = scipy.sparse.csr_matrix.toarray(X_train)\n",
    "    X_test_pca = scipy.sparse.csr_matrix.toarray(X_test)\n",
    "    pca = PCA(n_components=i)\n",
    "    pca.fit(X_train_pca)\n",
    "    X_train_pca = pca.transform(X_train_pca)\n",
    "    X_test_pca = pca.transform(X_test_pca)\n",
    "    xgb_reg = XGBRegressor(**params)\n",
    "    xgb_reg.fit(X_train_pca, y_train)\n",
    "    res_pca_components_mse.append(mean_squared_error(xgb_reg.predict(X_test_pca), y_test))"
   ]
  },
  {
   "cell_type": "code",
   "execution_count": 69,
   "id": "4b8bff17",
   "metadata": {},
   "outputs": [
    {
     "data": {
      "text/plain": [
       "[0.8826539312929363,\n",
       " 0.6311243517159022,\n",
       " 0.5280963062636342,\n",
       " 0.49306313368843413,\n",
       " 0.46733265914189115]"
      ]
     },
     "execution_count": 69,
     "metadata": {},
     "output_type": "execute_result"
    }
   ],
   "source": [
    "res_pca_components_mse"
   ]
  },
  {
   "cell_type": "code",
   "execution_count": 74,
   "id": "ab967ce2",
   "metadata": {},
   "outputs": [
    {
     "data": {
      "image/png": "[encoded data removed]",
      "text/plain": [
       "<Figure size 432x288 with 1 Axes>"
      ]
     },
     "metadata": {
      "needs_background": "light"
     },
     "output_type": "display_data"
    }
   ],
   "source": [
    "plt.plot(number, res_pca_components_mse, 'r')\n",
    "plt.xlabel('number of PCA components')\n",
    "plt.ylabel('Mean squared error')\n",
    "plt.savefig('visualisation/number_pca_components_MSE.png')"
   ]
  },
  {
   "cell_type": "markdown",
   "id": "61e14ebc",
   "metadata": {},
   "source": [
    "# Xgboost Parameter Tuning Random search"
   ]
  },
  {
   "cell_type": "code",
   "execution_count": 11,
   "id": "b33bb268",
   "metadata": {},
   "outputs": [],
   "source": [
    "parameters = {'objective':['reg:squarederror'],\n",
    "              'booster':['gbtree','gblinear'],\n",
    "              'learning_rate': [0.1, 0.01], \n",
    "              'max_depth': [7,10,15,20],\n",
    "              'min_child_weight': [10,15,20,25],\n",
    "              'colsample_bytree': [0.8, 0.9, 1],\n",
    "              'n_estimators': [300,400,500,600],\n",
    "              \"reg_alpha\"   : [0.5,0.2,1],\n",
    "              \"reg_lambda\"  : [2,3,5],\n",
    "              \"gamma\"       : [1,2,3]}"
   ]
  },
  {
   "cell_type": "code",
   "execution_count": 12,
   "id": "c0c2dcbd",
   "metadata": {},
   "outputs": [],
   "source": [
    "xgb_model = XGBRegressor()"
   ]
  },
  {
   "cell_type": "code",
   "execution_count": null,
   "id": "c27b1ce7",
   "metadata": {},
   "outputs": [],
   "source": [
    "grid_obj_xgb = RandomizedSearchCV(xgb_model,parameters, cv=4, n_iter=10, scoring='neg_mean_squared_error',\n",
    "                                  verbose=5,n_jobs=-1)\n",
    "grid_obj_xgb.fit(X_train, y_train, verbose = 1)"
   ]
  },
  {
   "cell_type": "code",
   "execution_count": 14,
   "id": "8272034c",
   "metadata": {},
   "outputs": [
    {
     "data": {
      "text/plain": [
       "{'reg_lambda': 5,\n",
       " 'reg_alpha': 1,\n",
       " 'objective': 'reg:squarederror',\n",
       " 'n_estimators': 400,\n",
       " 'min_child_weight': 10,\n",
       " 'max_depth': 15,\n",
       " 'learning_rate': 0.01,\n",
       " 'gamma': 2,\n",
       " 'colsample_bytree': 1,\n",
       " 'booster': 'gbtree'}"
      ]
     },
     "execution_count": 14,
     "metadata": {},
     "output_type": "execute_result"
    }
   ],
   "source": [
    "grid_obj_xgb.best_params_"
   ]
  },
  {
   "cell_type": "markdown",
   "id": "f5e89dad",
   "metadata": {},
   "source": [
    "# Cross Validation"
   ]
  },
  {
   "cell_type": "code",
   "execution_count": 90,
   "id": "36c903a3",
   "metadata": {},
   "outputs": [
    {
     "name": "stdout",
     "output_type": "stream",
     "text": [
      "0.44411870387214075 [0.43099311 0.4308277  0.44828783 0.46636618]\n"
     ]
    }
   ],
   "source": [
    "# Training our model\n",
    "params = {'reg_lambda': 5,\n",
    " 'reg_alpha': 1,\n",
    " 'objective': 'reg:squarederror',\n",
    " 'n_estimators': 400,\n",
    " 'min_child_weight': 10,\n",
    " 'max_depth': 15,\n",
    " 'learning_rate': 0.01,\n",
    " 'gamma': 2,\n",
    " 'colsample_bytree': 1,\n",
    " 'booster': 'gbtree'}\n",
    "\n",
    "xgb_reg = XGBRegressor(**params)\n",
    "#start_time = timer(None)\n",
    "scores = cross_val_score(xgb_reg, X_train, y_train, scoring=make_scorer(mean_squared_error),  cv=4)\n",
    "print(scores.mean(), scores)\n",
    "#timer(start_time) \n"
   ]
  },
  {
   "cell_type": "code",
   "execution_count": 16,
   "id": "efbcb436",
   "metadata": {},
   "outputs": [
    {
     "data": {
      "text/html": [
       "<style>#sk-container-id-3 {color: black;background-color: white;}#sk-container-id-3 pre{padding: 0;}#sk-container-id-3 div.sk-toggleable {background-color: white;}#sk-container-id-3 label.sk-toggleable__label {cursor: pointer;display: block;width: 100%;margin-bottom: 0;padding: 0.3em;box-sizing: border-box;text-align: center;}#sk-container-id-3 label.sk-toggleable__label-arrow:before {content: \"▸\";float: left;margin-right: 0.25em;color: #696969;}#sk-container-id-3 label.sk-toggleable__label-arrow:hover:before {color: black;}#sk-container-id-3 div.sk-estimator:hover label.sk-toggleable__label-arrow:before {color: black;}#sk-container-id-3 div.sk-toggleable__content {max-height: 0;max-width: 0;overflow: hidden;text-align: left;background-color: #f0f8ff;}#sk-container-id-3 div.sk-toggleable__content pre {margin: 0.2em;color: black;border-radius: 0.25em;background-color: #f0f8ff;}#sk-container-id-3 input.sk-toggleable__control:checked~div.sk-toggleable__content {max-height: 200px;max-width: 100%;overflow: auto;}#sk-container-id-3 input.sk-toggleable__control:checked~label.sk-toggleable__label-arrow:before {content: \"▾\";}#sk-container-id-3 div.sk-estimator input.sk-toggleable__control:checked~label.sk-toggleable__label {background-color: #d4ebff;}#sk-container-id-3 div.sk-label input.sk-toggleable__control:checked~label.sk-toggleable__label {background-color: #d4ebff;}#sk-container-id-3 input.sk-hidden--visually {border: 0;clip: rect(1px 1px 1px 1px);clip: rect(1px, 1px, 1px, 1px);height: 1px;margin: -1px;overflow: hidden;padding: 0;position: absolute;width: 1px;}#sk-container-id-3 div.sk-estimator {font-family: monospace;background-color: #f0f8ff;border: 1px dotted black;border-radius: 0.25em;box-sizing: border-box;margin-bottom: 0.5em;}#sk-container-id-3 div.sk-estimator:hover {background-color: #d4ebff;}#sk-container-id-3 div.sk-parallel-item::after {content: \"\";width: 100%;border-bottom: 1px solid gray;flex-grow: 1;}#sk-container-id-3 div.sk-label:hover label.sk-toggleable__label {background-color: #d4ebff;}#sk-container-id-3 div.sk-serial::before {content: \"\";position: absolute;border-left: 1px solid gray;box-sizing: border-box;top: 0;bottom: 0;left: 50%;z-index: 0;}#sk-container-id-3 div.sk-serial {display: flex;flex-direction: column;align-items: center;background-color: white;padding-right: 0.2em;padding-left: 0.2em;position: relative;}#sk-container-id-3 div.sk-item {position: relative;z-index: 1;}#sk-container-id-3 div.sk-parallel {display: flex;align-items: stretch;justify-content: center;background-color: white;position: relative;}#sk-container-id-3 div.sk-item::before, #sk-container-id-3 div.sk-parallel-item::before {content: \"\";position: absolute;border-left: 1px solid gray;box-sizing: border-box;top: 0;bottom: 0;left: 50%;z-index: -1;}#sk-container-id-3 div.sk-parallel-item {display: flex;flex-direction: column;z-index: 1;position: relative;background-color: white;}#sk-container-id-3 div.sk-parallel-item:first-child::after {align-self: flex-end;width: 50%;}#sk-container-id-3 div.sk-parallel-item:last-child::after {align-self: flex-start;width: 50%;}#sk-container-id-3 div.sk-parallel-item:only-child::after {width: 0;}#sk-container-id-3 div.sk-dashed-wrapped {border: 1px dashed gray;margin: 0 0.4em 0.5em 0.4em;box-sizing: border-box;padding-bottom: 0.4em;background-color: white;}#sk-container-id-3 div.sk-label label {font-family: monospace;font-weight: bold;display: inline-block;line-height: 1.2em;}#sk-container-id-3 div.sk-label-container {text-align: center;}#sk-container-id-3 div.sk-container {/* jupyter's `normalize.less` sets `[hidden] { display: none; }` but bootstrap.min.css set `[hidden] { display: none !important; }` so we also need the `!important` here to be able to override the default hidden behavior on the sphinx rendered scikit-learn.org. See: https://github.com/scikit-learn/scikit-learn/issues/21755 */display: inline-block !important;position: relative;}#sk-container-id-3 div.sk-text-repr-fallback {display: none;}</style><div id=\"sk-container-id-3\" class=\"sk-top-container\"><div class=\"sk-text-repr-fallback\"><pre>XGBRegressor(base_score=0.5, booster=&#x27;gbtree&#x27;, colsample_bylevel=1,\n",
       "             colsample_bynode=1, colsample_bytree=1, enable_categorical=False,\n",
       "             gamma=2, gpu_id=-1, importance_type=None,\n",
       "             interaction_constraints=&#x27;&#x27;, learning_rate=0.01, max_delta_step=0,\n",
       "             max_depth=15, min_child_weight=10, missing=nan,\n",
       "             monotone_constraints=&#x27;()&#x27;, n_estimators=400, n_jobs=4,\n",
       "             num_parallel_tree=1, predictor=&#x27;auto&#x27;, random_state=0, reg_alpha=1,\n",
       "             reg_lambda=5, scale_pos_weight=1, subsample=1, tree_method=&#x27;exact&#x27;,\n",
       "             validate_parameters=1, verbosity=None)</pre><b>In a Jupyter environment, please rerun this cell to show the HTML representation or trust the notebook. <br />On GitHub, the HTML representation is unable to render, please try loading this page with nbviewer.org.</b></div><div class=\"sk-container\" hidden><div class=\"sk-item\"><div class=\"sk-estimator sk-toggleable\"><input class=\"sk-toggleable__control sk-hidden--visually\" id=\"sk-estimator-id-5\" type=\"checkbox\" checked><label for=\"sk-estimator-id-5\" class=\"sk-toggleable__label sk-toggleable__label-arrow\">XGBRegressor</label><div class=\"sk-toggleable__content\"><pre>XGBRegressor(base_score=0.5, booster=&#x27;gbtree&#x27;, colsample_bylevel=1,\n",
       "             colsample_bynode=1, colsample_bytree=1, enable_categorical=False,\n",
       "             gamma=2, gpu_id=-1, importance_type=None,\n",
       "             interaction_constraints=&#x27;&#x27;, learning_rate=0.01, max_delta_step=0,\n",
       "             max_depth=15, min_child_weight=10, missing=nan,\n",
       "             monotone_constraints=&#x27;()&#x27;, n_estimators=400, n_jobs=4,\n",
       "             num_parallel_tree=1, predictor=&#x27;auto&#x27;, random_state=0, reg_alpha=1,\n",
       "             reg_lambda=5, scale_pos_weight=1, subsample=1, tree_method=&#x27;exact&#x27;,\n",
       "             validate_parameters=1, verbosity=None)</pre></div></div></div></div></div>"
      ],
      "text/plain": [
       "XGBRegressor(base_score=0.5, booster='gbtree', colsample_bylevel=1,\n",
       "             colsample_bynode=1, colsample_bytree=1, enable_categorical=False,\n",
       "             gamma=2, gpu_id=-1, importance_type=None,\n",
       "             interaction_constraints='', learning_rate=0.01, max_delta_step=0,\n",
       "             max_depth=15, min_child_weight=10, missing=nan,\n",
       "             monotone_constraints='()', n_estimators=400, n_jobs=4,\n",
       "             num_parallel_tree=1, predictor='auto', random_state=0, reg_alpha=1,\n",
       "             reg_lambda=5, scale_pos_weight=1, subsample=1, tree_method='exact',\n",
       "             validate_parameters=1, verbosity=None)"
      ]
     },
     "execution_count": 16,
     "metadata": {},
     "output_type": "execute_result"
    }
   ],
   "source": [
    "params = {'reg_lambda': 5,\n",
    " 'reg_alpha': 1,\n",
    " 'objective': 'reg:squarederror',\n",
    " 'n_estimators': 400,\n",
    " 'min_child_weight': 10,\n",
    " 'max_depth': 15,\n",
    " 'learning_rate': 0.01,\n",
    " 'gamma': 2,\n",
    " 'colsample_bytree': 1,\n",
    " 'booster': 'gbtree'}\n",
    "\n",
    "xgb_reg = XGBRegressor(**params)\n",
    "xgb_reg.fit(X_train, y_train)"
   ]
  },
  {
   "cell_type": "code",
   "execution_count": 22,
   "id": "39d11e52",
   "metadata": {},
   "outputs": [],
   "source": [
    "# saving model\n",
    "xgb_reg.save_model(\"0003.model\")"
   ]
  },
  {
   "cell_type": "code",
   "execution_count": 19,
   "id": "9a55ad1c",
   "metadata": {},
   "outputs": [
    {
     "name": "stdout",
     "output_type": "stream",
     "text": [
      "0.39248551759440053\n"
     ]
    }
   ],
   "source": [
    "print(mean_squared_error(xgb_reg.predict(X_test), y_test))"
   ]
  },
  {
   "cell_type": "markdown",
   "id": "a4ff1f24",
   "metadata": {},
   "source": [
    "# Visualisation"
   ]
  },
  {
   "cell_type": "code",
   "execution_count": 18,
   "id": "81edd886",
   "metadata": {},
   "outputs": [],
   "source": [
    "# dependence on the number of samples"
   ]
  },
  {
   "cell_type": "code",
   "execution_count": 20,
   "id": "1b59335d",
   "metadata": {},
   "outputs": [],
   "source": [
    "params = {'reg_lambda': 5,\n",
    " 'reg_alpha': 1,\n",
    " 'objective': 'reg:squarederror',\n",
    " 'n_estimators': 400,\n",
    " 'min_child_weight': 10,\n",
    " 'max_depth': 15,\n",
    " 'learning_rate': 0.01,\n",
    " 'gamma': 2,\n",
    " 'colsample_bytree': 1,\n",
    " 'booster': 'gbtree'}"
   ]
  },
  {
   "cell_type": "code",
   "execution_count": 40,
   "id": "8857d16e",
   "metadata": {},
   "outputs": [],
   "source": [
    "res_number_samples_mse = []\n",
    "number = [200, 500, 1000, 3000, 5000, 6000]\n",
    "for i in number:\n",
    "    xgb_reg = XGBRegressor(**params)\n",
    "    xgb_reg.fit(X_train[:i], y_train[:i])\n",
    "    res_number_samples_mse.append(mean_squared_error(xgb_reg.predict(X_test), y_test))"
   ]
  },
  {
   "cell_type": "code",
   "execution_count": 41,
   "id": "3f028fd3",
   "metadata": {},
   "outputs": [
    {
     "data": {
      "image/png": "[encoded data removed]",
      "text/plain": [
       "<Figure size 432x288 with 1 Axes>"
      ]
     },
     "metadata": {
      "needs_background": "light"
     },
     "output_type": "display_data"
    }
   ],
   "source": [
    "plt.plot(number, res, 'r')\n",
    "plt.ylim([0.3, 0.7])\n",
    "plt.xlabel('number of samples')\n",
    "plt.ylabel('Mean squared error')\n",
    "plt.savefig('visualisation/number_of_samples_MSE.png')"
   ]
  },
  {
   "cell_type": "code",
   "execution_count": 42,
   "id": "2aeaad7e",
   "metadata": {},
   "outputs": [],
   "source": [
    "# dependence on the number of features"
   ]
  },
  {
   "cell_type": "code",
   "execution_count": 43,
   "id": "ef72530b",
   "metadata": {},
   "outputs": [],
   "source": [
    "res_number_features_mse = []\n",
    "number = [100, 300, 500, 700, 1000]\n",
    "for i in number:\n",
    "    xgb_reg = XGBRegressor(**params)\n",
    "    xgb_reg.fit(X_train[:, :i], y_train)\n",
    "    res_number_features_mse.append(mean_squared_error(xgb_reg.predict(X_test[:, :i]), y_test))"
   ]
  },
  {
   "cell_type": "code",
   "execution_count": 71,
   "id": "88aed1f2",
   "metadata": {},
   "outputs": [
    {
     "data": {
      "image/png": "[encoded data removed]",
      "text/plain": [
       "<Figure size 432x288 with 1 Axes>"
      ]
     },
     "metadata": {
      "needs_background": "light"
     },
     "output_type": "display_data"
    }
   ],
   "source": [
    "\n",
    "plt.plot(number, res_number_features_mse, 'r')\n",
    "plt.ylim([0.35, 0.5])\n",
    "plt.xlabel('number of features')\n",
    "plt.ylabel('Mean squared error')\n",
    "plt.savefig('visualisation/number_of_features_MSE.png')"
   ]
  },
  {
   "cell_type": "code",
   "execution_count": null,
   "id": "a0dd3e21",
   "metadata": {},
   "outputs": [],
   "source": [
    "# the most important features\n",
    "xgb_reg = XGBRegressor(**params)\n",
    "xgb_reg.fit(X_train, y_train)"
   ]
  },
  {
   "cell_type": "code",
   "execution_count": 119,
   "id": "f36effc9",
   "metadata": {},
   "outputs": [
    {
     "data": {
      "image/png": "[encoded data removed]",
      "text/plain": [
       "<Figure size 432x288 with 1 Axes>"
      ]
     },
     "metadata": {
      "needs_background": "light"
     },
     "output_type": "display_data"
    }
   ],
   "source": [
    "sorted_idx = xgb_reg.feature_importances_.argsort()\n",
    "plt.barh(tfidf.get_feature_names_out()[sorted_idx][990:1000], xgb_reg.feature_importances_[sorted_idx][990:1000])\n",
    "plt.xlabel(\"Xgboost Feature Importance\")\n",
    "plt.savefig('visualisation/the_most_important_features.png')"
   ]
  },
  {
   "cell_type": "markdown",
   "id": "29554d3a",
   "metadata": {},
   "source": [
    "# Another algorithms"
   ]
  },
  {
   "cell_type": "code",
   "execution_count": 124,
   "id": "179a9efa",
   "metadata": {},
   "outputs": [],
   "source": [
    "svm = make_pipeline(StandardScaler(), SVR(C=1.0, epsilon=0.2))"
   ]
  },
  {
   "cell_type": "markdown",
   "id": "3c8fbb81",
   "metadata": {},
   "source": [
    "# load model & predict"
   ]
  },
  {
   "cell_type": "code",
   "execution_count": 25,
   "id": "f367e65f",
   "metadata": {},
   "outputs": [],
   "source": [
    "def predict(title1, title2):\n",
    "    model_path = '0003.model'\n",
    "    tfidf_path = \"tfidf.pkl\"\n",
    "    bst = xgb.Booster({'nthread': 4})  # init model\n",
    "    bst.load_model('0003.model')\n",
    "    tfidf = pickle.load(open(\"tfidf.pkl\",'rb'))\n",
    "    #preprocessing\n",
    "    predict_q1_tfidf = tfidf.transform(page_info.get(title1))\n",
    "    predict_q2_tfidf = tfidf.transform(page_info.get(title2))\n",
    "    X_pred = xgb.DMatrix(abs(predict_q1_tfidf - predict_q2_tfidf))\n",
    "    predictions = bst.predict(X_pred)\n",
    "    return predictions"
   ]
  },
  {
   "cell_type": "code",
   "execution_count": null,
   "id": "204ab63b",
   "metadata": {},
   "outputs": [],
   "source": []
  }
 ],
 "metadata": {
  "kernelspec": {
   "display_name": "Python 3",
   "language": "python",
   "name": "python3"
  },
  "language_info": {
   "codemirror_mode": {
    "name": "ipython",
    "version": 3
   },
   "file_extension": ".py",
   "mimetype": "text/x-python",
   "name": "python",
   "nbconvert_exporter": "python",
   "pygments_lexer": "ipython3",
   "version": "3.9.5"
  }
 },
 "nbformat": 4,
 "nbformat_minor": 5
}
