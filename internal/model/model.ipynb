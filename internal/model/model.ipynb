{
 "cells": [
  {
   "cell_type": "code",
   "execution_count": 36,
   "id": "fc7deb13-9b2c-4bd2-8ce7-4578de244864",
   "metadata": {
    "pycharm": {
     "is_executing": true,
     "name": "#%%\n"
    }
   },
   "outputs": [],
   "source": [
    "# Global imports\n",
    "import pandas\n",
    "from sklearn.model_selection import train_test_split\n",
    "from sklearn import svm # We will use svm for that"
   ]
  },
  {
   "cell_type": "code",
   "execution_count": 37,
   "id": "083d54d8-8aac-4908-9495-2d4c4857e189",
   "metadata": {
    "pycharm": {
     "name": "#%%\n"
    }
   },
   "outputs": [],
   "source": [
    "# Internal imports\n",
    "import os\n",
    "import sys\n",
    "module_path = os.path.abspath(os.path.join('../..'))\n",
    "if module_path not in sys.path:\n",
    "    sys.path.append(module_path)\n",
    "    \n",
    "from internal.config import config\n",
    "from internal.dataset_generator import csv_interactor_with_features"
   ]
  },
  {
   "cell_type": "code",
   "execution_count": 38,
   "id": "91b7bce1",
   "metadata": {
    "pycharm": {
     "name": "#%%\n"
    }
   },
   "outputs": [],
   "source": [
    "# Reading the dataset\n",
    "number_of_rows = 5 #Change to len(dataset.columns) or remove nrows to load the whole dataset\n",
    "dataset = pandas.read_csv(config.dataset_with_features_path(), header=None, nrows=number_of_rows)"
   ]
  },
  {
   "cell_type": "code",
   "execution_count": 39,
   "id": "0b0b11f9",
   "metadata": {
    "pycharm": {
     "name": "#%%\n"
    }
   },
   "outputs": [],
   "source": [
    "# Defining a list of inputs and outputs\n",
    "number_of_columns = len(dataset.columns) # Number of columns\n",
    "offset = int((number_of_columns - 3)/2) + 1 #The offset on which we need to move to delete 2nd title\n",
    "inputs = dataset.drop(axis=1, columns=[0, offset, number_of_columns-1], inplace=False)\n",
    "outputs = dataset[number_of_columns-1].to_numpy()\n",
    "\n",
    "# Distributing a table into test and train samples\n",
    "train_fraction = 0.2\n",
    "X_train, X_test, y_train, y_test = train_test_split(inputs, outputs, test_size=train_fraction)"
   ]
  },
  {
   "cell_type": "code",
   "execution_count": 45,
   "id": "6a356799",
   "metadata": {},
   "outputs": [
    {
     "name": "stdout",
     "output_type": "stream",
     "text": [
      "[4]\n",
      "[3]\n"
     ]
    }
   ],
   "source": [
    "# Training our model\n",
    "clf = svm.SVC(kernel='linear')\n",
    "clf.fit(X_train, y_train)\n",
    "\n",
    "y_pred = clf.predict(X_test)"
   ]
  }
 ],
 "metadata": {
  "kernelspec": {
   "display_name": "Python 3 (ipykernel)",
   "language": "python",
   "name": "python3"
  },
  "language_info": {
   "codemirror_mode": {
    "name": "ipython",
    "version": 3
   },
   "file_extension": ".py",
   "mimetype": "text/x-python",
   "name": "python",
   "nbconvert_exporter": "python",
   "pygments_lexer": "ipython3",
   "version": "3.10.4"
  }
 },
 "nbformat": 4,
 "nbformat_minor": 5
}
